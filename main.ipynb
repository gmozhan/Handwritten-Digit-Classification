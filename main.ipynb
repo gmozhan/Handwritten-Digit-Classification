{
 "cells": [
  {
   "cell_type": "code",
   "execution_count": 1,
   "metadata": {},
   "outputs": [
    {
     "name": "stderr",
     "output_type": "stream",
     "text": [
      "Using TensorFlow backend.\n"
     ]
    }
   ],
   "source": [
    "import keras\n",
    "from keras.models import Sequential\n",
    "from keras.layers import Dense, Dropout, Flatten\n",
    "from keras.layers import Conv2D, MaxPooling2D\n",
    "from keras import backend as K\n",
    "from keras.models import load_model\n",
    "import numpy as np \n",
    "import matplotlib.pyplot as plt"
   ]
  },
  {
   "cell_type": "code",
   "execution_count": 2,
   "metadata": {},
   "outputs": [],
   "source": [
    "test_images_f  = \"t10k-images.idx3-ubyte\"\n",
    "test_labels_f  = \"t10k-labels.idx1-ubyte\""
   ]
  },
  {
   "cell_type": "code",
   "execution_count": 3,
   "metadata": {},
   "outputs": [],
   "source": [
    "train_images_f = \"train-images.idx3-ubyte\"\n",
    "train_labels_f = \"train-labels.idx1-ubyte\""
   ]
  },
  {
   "cell_type": "code",
   "execution_count": 4,
   "metadata": {},
   "outputs": [],
   "source": [
    "class image_t(object):\n",
    "    def __init__(self,pixels=None,label=None):\n",
    "        self.pixels = pixels # 2D list of pixel values\n",
    "        self.label  = label # alphanumeric value\n",
    "\n",
    "    # print digit to terminal\n",
    "    def output_terminal(self, threshold=20):\n",
    "        if len(self.pixels)==784:\n",
    "            line=[]\n",
    "            for p in self.pixels:\n",
    "                if int(p)>threshold: line.append(\" X\")\n",
    "                else: line.append(\"  \")\n",
    "                if len(line)==28:\n",
    "                    print(''.join(line))\n",
    "                    line=[]\n",
    "            if self.label!=None: print(\"\\nImage label = %s\"%self.label)\n",
    "        else:\n",
    "            print(\"Image not 784 pixels!\")\n",
    "\n",
    "    # divide each entry by 255\n",
    "    def normalize(self):\n",
    "        for i in range(len(self.pixels)):\n",
    "            self.pixels[i] = float(self.pixels[i])/255.0\n",
    "\n",
    "    # create onehot vector for label\n",
    "    def onehot_label(self):\n",
    "        self.onehot = np.zeros(10)\n",
    "        self.onehot[int(self.label)] = 1.0\n"
   ]
  },
  {
   "cell_type": "code",
   "execution_count": 5,
   "metadata": {},
   "outputs": [],
   "source": [
    "# Read in num_words words starting at byte_offset. This is used for\n",
    "# reading in the metadata of the file at the header.\n",
    "def read_words(file, byte_offset, num_words):\n",
    "    # Read a single word from a file and return the decimal representation\n",
    "    def read_word(file, index):\n",
    "        vals = []\n",
    "        for i in range(4):\n",
    "            file.seek(i+index)\n",
    "            vals.append(ord(file.read(1)))\n",
    "        val = vals[0]*(16**6) + vals[1]*(16**4) + vals[2]*(16**2) + vals[3]\n",
    "        return val\n",
    "    words = []\n",
    "    for i in range(num_words):\n",
    "        val = read_word(file, byte_offset+(i*4))\n",
    "        words.append(val)\n",
    "    return words"
   ]
  },
  {
   "cell_type": "code",
   "execution_count": 6,
   "metadata": {},
   "outputs": [],
   "source": [
    "# Reads in num_bytes bytes starting at byte_offset\n",
    "def read_bytes(file, byte_offset, num_bytes):\n",
    "    vals = []\n",
    "    for i in range(num_bytes):\n",
    "        file.seek(byte_offset+i)\n",
    "        vals.append(ord(file.read(1)))\n",
    "    return vals"
   ]
  },
  {
   "cell_type": "code",
   "execution_count": 7,
   "metadata": {},
   "outputs": [],
   "source": [
    "def get_images(file, byte_offset, num_images):\n",
    "    pictures = []\n",
    "    for i in range(num_images):\n",
    "        pixels = read_bytes(file,byte_offset+(i*784),784)\n",
    "        pictures.append(image_t(pixels))\n",
    "    return pictures"
   ]
  },
  {
   "cell_type": "code",
   "execution_count": 8,
   "metadata": {},
   "outputs": [],
   "source": [
    "def load_data(max_images=None):\n",
    "    # load test image set\n",
    "    with open(test_images_f,'rb') as f:\n",
    "        magic,num_images,x_range,y_range = read_words(f,0,4)\n",
    "        test_images = get_images(f,16,num_images if max_images is None else max_images)\n",
    "    # load test image labels\n",
    "    with open(test_labels_f,'rb') as f:\n",
    "        test_labels = read_bytes(f,8,num_images)\n",
    "    # correlate labels with images\n",
    "    for t,l in zip(test_images,test_labels):\n",
    "        t.label = l \n",
    "    \n",
    "    # load train image set\n",
    "    with open(train_images_f,'rb') as f:\n",
    "        magic,num_images,x_range,y_range = read_words(f,0,4)\n",
    "        train_images = get_images(f,16,num_images if max_images is None else max_images)\n",
    "    # load train image labels\n",
    "    with open(train_labels_f,'rb') as f:\n",
    "        train_labels = read_bytes(f,8,num_images)\n",
    "    # correlate labels with images\n",
    "    for t,l in zip(train_images,train_labels):\n",
    "        t.label = l \n",
    "\n",
    "    return test_images,train_images"
   ]
  },
  {
   "cell_type": "code",
   "execution_count": 9,
   "metadata": {},
   "outputs": [],
   "source": [
    "def load_normalize_vectorize():\n",
    "    print(\"Loading data...\")\n",
    "    test_images,train_images = load_data()\n",
    "\n",
    "    print(\"Normalizing data...\")\n",
    "    for t in test_images:\n",
    "        t.normalize()\n",
    "        t.onehot_label()\n",
    "    for t in train_images:\n",
    "        t.normalize()\n",
    "        t.onehot_label()\n",
    "\n",
    "    print(\"Vectorizing data...\")\n",
    "    test_X=[]\n",
    "    test_Y=[]\n",
    "    train_X=[]\n",
    "    train_Y=[]\n",
    "\n",
    "    if K.image_data_format()=='channels_first':\n",
    "        input_shape = (1,28,28)\n",
    "    else:\n",
    "        input_shape = (28,28,1)\n",
    "\n",
    "    for t in test_images:\n",
    "        test_X.append(np.array(t.pixels).reshape(input_shape))\n",
    "        test_Y.append(t.onehot)\n",
    "    for t in train_images:\n",
    "        train_X.append(np.array(t.pixels).reshape(input_shape))\n",
    "        train_Y.append(t.onehot)\n",
    "\n",
    "    test_X = np.array(test_X)\n",
    "    test_Y = np.array(test_Y)\n",
    "    train_X = np.array(train_X)\n",
    "    train_Y = np.array(train_Y)\n",
    "    \n",
    "    return test_X, test_Y, train_X, train_Y,input_shape"
   ]
  },
  {
   "cell_type": "code",
   "execution_count": 92,
   "metadata": {},
   "outputs": [],
   "source": [
    "def main(kernel_size=(3,3),kernel_num=32,lr=1.0,active_func='relu'):\n",
    "    \n",
    "    print(\"Building model...\")\n",
    "    num_classes = 10\n",
    "    batch_size = 128 \n",
    "    epochs = 3\n",
    "\n",
    "    model = Sequential()\n",
    "    #first convolution layer\n",
    "    model.add(Conv2D(kernel_num, kernel_size=kernel_size,activation=active_func,\n",
    "                     input_shape=input_shape))\n",
    "    #second convolution layer\n",
    "    #model.add(Conv2D(kernel_num, kernel_size=kernel_size, activation=active_func))\n",
    "    #third convolution layer\n",
    "    #model.add(Conv2D(kernel_num, kernel_size=kernel_size, activation=active_func))\n",
    "    \n",
    "    model.add(MaxPooling2D(pool_size=(2, 2)))\n",
    "    #dropout to prevent overfitting\n",
    "    model.add(Dropout(0.25))\n",
    "    model.add(Flatten())\n",
    "    #fully-connected layers\n",
    "    model.add(Dense(128, activation=active_func))\n",
    "    model.add(Dropout(0.5))\n",
    "    model.add(Dense(num_classes, activation='softmax'))\n",
    "\n",
    "    print(\"Compiling model...\")\n",
    "    model.compile(loss=keras.losses.categorical_crossentropy,\n",
    "                  optimizer=keras.optimizers.Adadelta(learning_rate=lr),\n",
    "                  metrics=['accuracy'])\n",
    "\n",
    "    print(\"Fitting model...\")\n",
    "    model.fit(train_X, train_Y,\n",
    "              batch_size=batch_size,\n",
    "              epochs=epochs,\n",
    "              verbose=1,\n",
    "              validation_data=(test_X, test_Y))\n",
    "    score = model.evaluate(test_X, test_Y, verbose=0)\n",
    "    print('Test loss:', score[0])\n",
    "    print('Test accuracy:', score[1])\n",
    "\n",
    "\n",
    "    return model"
   ]
  },
  {
   "cell_type": "code",
   "execution_count": 12,
   "metadata": {},
   "outputs": [],
   "source": [
    "def save_model(model):\n",
    "    print(\"Saving model...\")\n",
    "    model.save(\"conv2D_classifier.h5\")\n",
    "    print(\"Done.\")"
   ]
  },
  {
   "cell_type": "code",
   "execution_count": 13,
   "metadata": {
    "scrolled": false
   },
   "outputs": [
    {
     "name": "stdout",
     "output_type": "stream",
     "text": [
      "Loading data...\n",
      "Normalizing data...\n",
      "Vectorizing data...\n"
     ]
    }
   ],
   "source": [
    "test_X, test_Y, train_X, train_Y,input_shape=load_normalize_vectorize()"
   ]
  },
  {
   "cell_type": "markdown",
   "metadata": {},
   "source": [
    "# Test for different kernel sizes"
   ]
  },
  {
   "cell_type": "code",
   "execution_count": 14,
   "metadata": {},
   "outputs": [
    {
     "name": "stdout",
     "output_type": "stream",
     "text": [
      "Building model...\n",
      "Compiling model...\n",
      "Fitting model...\n",
      "Train on 60000 samples, validate on 10000 samples\n",
      "Epoch 1/5\n",
      "60000/60000 [==============================] - 34s 574us/step - loss: 0.4186 - accuracy: 0.8722 - val_loss: 0.1486 - val_accuracy: 0.9528\n",
      "Epoch 2/5\n",
      "60000/60000 [==============================] - 38s 636us/step - loss: 0.2034 - accuracy: 0.9391 - val_loss: 0.1030 - val_accuracy: 0.9669\n",
      "Epoch 3/5\n",
      "60000/60000 [==============================] - 37s 621us/step - loss: 0.1574 - accuracy: 0.9534 - val_loss: 0.0803 - val_accuracy: 0.9742\n",
      "Epoch 4/5\n",
      "60000/60000 [==============================] - 36s 601us/step - loss: 0.1337 - accuracy: 0.9611 - val_loss: 0.0691 - val_accuracy: 0.9775\n",
      "Epoch 5/5\n",
      "60000/60000 [==============================] - 36s 605us/step - loss: 0.1180 - accuracy: 0.9650 - val_loss: 0.0650 - val_accuracy: 0.9798\n",
      "Test loss: 0.06497711040060968\n",
      "Test accuracy: 0.9797999858856201\n"
     ]
    }
   ],
   "source": [
    "#kernel_size=(2,2)\n",
    "if __name__ == '__main__':\n",
    "    main(kernel_size=(2,2))"
   ]
  },
  {
   "cell_type": "code",
   "execution_count": 67,
   "metadata": {},
   "outputs": [],
   "source": [
    "test_accuracy1=[0.9528,0.9669,0.9742,0.9775,0.9798]"
   ]
  },
  {
   "cell_type": "code",
   "execution_count": 15,
   "metadata": {},
   "outputs": [
    {
     "name": "stdout",
     "output_type": "stream",
     "text": [
      "Building model...\n",
      "Compiling model...\n",
      "Fitting model...\n",
      "Train on 60000 samples, validate on 10000 samples\n",
      "Epoch 1/5\n",
      "60000/60000 [==============================] - 37s 619us/step - loss: 0.3633 - accuracy: 0.8896 - val_loss: 0.0974 - val_accuracy: 0.9715\n",
      "Epoch 2/5\n",
      "60000/60000 [==============================] - 37s 625us/step - loss: 0.1431 - accuracy: 0.9586 - val_loss: 0.0688 - val_accuracy: 0.9779\n",
      "Epoch 3/5\n",
      "60000/60000 [==============================] - 37s 623us/step - loss: 0.1059 - accuracy: 0.9680 - val_loss: 0.0592 - val_accuracy: 0.9800\n",
      "Epoch 4/5\n",
      "60000/60000 [==============================] - 36s 602us/step - loss: 0.0898 - accuracy: 0.9735 - val_loss: 0.0503 - val_accuracy: 0.9830\n",
      "Epoch 5/5\n",
      "60000/60000 [==============================] - 36s 604us/step - loss: 0.0784 - accuracy: 0.9768 - val_loss: 0.0455 - val_accuracy: 0.9839\n",
      "Test loss: 0.045497187581774776\n",
      "Test accuracy: 0.9839000105857849\n"
     ]
    }
   ],
   "source": [
    "#kernel_size=(3,3)\n",
    "if __name__ == '__main__':\n",
    "    main(kernel_size=(3,3))"
   ]
  },
  {
   "cell_type": "code",
   "execution_count": 68,
   "metadata": {},
   "outputs": [],
   "source": [
    "test_accuracy2=[0.9715,0.9779,0.9800,0.9830,0.9839]"
   ]
  },
  {
   "cell_type": "code",
   "execution_count": 16,
   "metadata": {},
   "outputs": [
    {
     "name": "stdout",
     "output_type": "stream",
     "text": [
      "Building model...\n",
      "Compiling model...\n",
      "Fitting model...\n",
      "Train on 60000 samples, validate on 10000 samples\n",
      "Epoch 1/5\n",
      "60000/60000 [==============================] - 34s 574us/step - loss: 0.3497 - accuracy: 0.8942 - val_loss: 0.0899 - val_accuracy: 0.9716\n",
      "Epoch 2/5\n",
      "60000/60000 [==============================] - 34s 564us/step - loss: 0.1317 - accuracy: 0.9621 - val_loss: 0.0583 - val_accuracy: 0.9815\n",
      "Epoch 3/5\n",
      "60000/60000 [==============================] - 34s 567us/step - loss: 0.1009 - accuracy: 0.9698 - val_loss: 0.0474 - val_accuracy: 0.9838\n",
      "Epoch 4/5\n",
      "60000/60000 [==============================] - 34s 570us/step - loss: 0.0824 - accuracy: 0.9756 - val_loss: 0.0430 - val_accuracy: 0.9849\n",
      "Epoch 5/5\n",
      "60000/60000 [==============================] - 34s 570us/step - loss: 0.0733 - accuracy: 0.9781 - val_loss: 0.0392 - val_accuracy: 0.9858\n",
      "Test loss: 0.039196522748452846\n",
      "Test accuracy: 0.98580002784729\n"
     ]
    }
   ],
   "source": [
    "#kernel_size=(4,4)\n",
    "if __name__ == '__main__':\n",
    "    main(kernel_size=(4,4))"
   ]
  },
  {
   "cell_type": "code",
   "execution_count": 69,
   "metadata": {},
   "outputs": [],
   "source": [
    "test_accuracy3=[0.9716,0.9815,0.9838,0.9849,0.9858]"
   ]
  },
  {
   "cell_type": "code",
   "execution_count": 17,
   "metadata": {},
   "outputs": [
    {
     "name": "stdout",
     "output_type": "stream",
     "text": [
      "Building model...\n",
      "Compiling model...\n",
      "Fitting model...\n",
      "Train on 60000 samples, validate on 10000 samples\n",
      "Epoch 1/5\n",
      "60000/60000 [==============================] - 35s 582us/step - loss: 0.3037 - accuracy: 0.9072 - val_loss: 0.0849 - val_accuracy: 0.9746\n",
      "Epoch 2/5\n",
      "60000/60000 [==============================] - 37s 609us/step - loss: 0.1165 - accuracy: 0.9655 - val_loss: 0.0520 - val_accuracy: 0.9833\n",
      "Epoch 3/5\n",
      "60000/60000 [==============================] - 37s 611us/step - loss: 0.0886 - accuracy: 0.9734 - val_loss: 0.0417 - val_accuracy: 0.9859\n",
      "Epoch 4/5\n",
      "60000/60000 [==============================] - 36s 605us/step - loss: 0.0734 - accuracy: 0.9782 - val_loss: 0.0406 - val_accuracy: 0.9865\n",
      "Epoch 5/5\n",
      "60000/60000 [==============================] - 36s 608us/step - loss: 0.0642 - accuracy: 0.9807 - val_loss: 0.0359 - val_accuracy: 0.9874\n",
      "Test loss: 0.03588931858259602\n",
      "Test accuracy: 0.9873999953269958\n"
     ]
    }
   ],
   "source": [
    "#kernel_size=(5,5)\n",
    "if __name__ == '__main__':\n",
    "    main(kernel_size=(5,5))"
   ]
  },
  {
   "cell_type": "code",
   "execution_count": 70,
   "metadata": {},
   "outputs": [],
   "source": [
    "test_accuracy4=[0.9746,0.9833,0.9859,0.9865,0.9874]"
   ]
  },
  {
   "cell_type": "code",
   "execution_count": 71,
   "metadata": {},
   "outputs": [
    {
     "data": {
      "image/png": "[encoded data removed]",
      "text/plain": [
       "<Figure size 432x288 with 1 Axes>"
      ]
     },
     "metadata": {
      "needs_background": "light"
     },
     "output_type": "display_data"
    }
   ],
   "source": [
    "plt.plot([1,2,3,4,5],test_accuracy1,color='b')\n",
    "plt.plot([1,2,3,4,5],test_accuracy2,color='r')\n",
    "plt.plot([1,2,3,4,5],test_accuracy3,color='g')\n",
    "plt.plot([1,2,3,4,5],test_accuracy4,color='m')\n",
    "plt.ylabel('Test Accuracy')\n",
    "plt.xlabel('Number of iterations')\n",
    "plt.legend(['kernel size : 2x2','kernel size : 3x3','kernel size : 4x4','kernel size : 5x5'])\n",
    "plt.show()"
   ]
  },
  {
   "cell_type": "markdown",
   "metadata": {},
   "source": [
    "# Test for different kernel numbers"
   ]
  },
  {
   "cell_type": "code",
   "execution_count": 23,
   "metadata": {},
   "outputs": [
    {
     "name": "stdout",
     "output_type": "stream",
     "text": [
      "Building model...\n",
      "Compiling model...\n",
      "Fitting model...\n",
      "Train on 60000 samples, validate on 10000 samples\n",
      "Epoch 1/5\n",
      "60000/60000 [==============================] - 41s 685us/step - loss: 0.3919 - accuracy: 0.8802 - val_loss: 0.1228 - val_accuracy: 0.9631\n",
      "Epoch 2/5\n",
      "60000/60000 [==============================] - 39s 645us/step - loss: 0.1581 - accuracy: 0.9541 - val_loss: 0.0707 - val_accuracy: 0.9783\n",
      "Epoch 3/5\n",
      "60000/60000 [==============================] - 43s 714us/step - loss: 0.1108 - accuracy: 0.9678 - val_loss: 0.0572 - val_accuracy: 0.9809\n",
      "Epoch 4/5\n",
      "60000/60000 [==============================] - 41s 681us/step - loss: 0.0938 - accuracy: 0.9722 - val_loss: 0.0507 - val_accuracy: 0.9830\n",
      "Epoch 5/5\n",
      "60000/60000 [==============================] - 42s 701us/step - loss: 0.0812 - accuracy: 0.9753 - val_loss: 0.0466 - val_accuracy: 0.9829\n",
      "Test loss: 0.0466205170115456\n",
      "Test accuracy: 0.9829000234603882\n"
     ]
    }
   ],
   "source": [
    "# kernel_number = 32\n",
    "if __name__ == '__main__':\n",
    "    main(kernel_num=32)"
   ]
  },
  {
   "cell_type": "code",
   "execution_count": 72,
   "metadata": {},
   "outputs": [],
   "source": [
    "test_accuracy1=[0.9631,0.9783,0.9809,0.9830,0.9829]"
   ]
  },
  {
   "cell_type": "code",
   "execution_count": 24,
   "metadata": {},
   "outputs": [
    {
     "name": "stdout",
     "output_type": "stream",
     "text": [
      "Building model...\n",
      "Compiling model...\n",
      "Fitting model...\n",
      "Train on 60000 samples, validate on 10000 samples\n",
      "Epoch 1/5\n",
      "60000/60000 [==============================] - 68s 1ms/step - loss: 0.3397 - accuracy: 0.8966 - val_loss: 0.0994 - val_accuracy: 0.9689\n",
      "Epoch 2/5\n",
      "60000/60000 [==============================] - 79s 1ms/step - loss: 0.1290 - accuracy: 0.9618 - val_loss: 0.0641 - val_accuracy: 0.9787\n",
      "Epoch 3/5\n",
      "60000/60000 [==============================] - 62s 1ms/step - loss: 0.0968 - accuracy: 0.9717 - val_loss: 0.0510 - val_accuracy: 0.9833\n",
      "Epoch 4/5\n",
      "60000/60000 [==============================] - 64s 1ms/step - loss: 0.0789 - accuracy: 0.9764 - val_loss: 0.0485 - val_accuracy: 0.9829\n",
      "Epoch 5/5\n",
      "60000/60000 [==============================] - 63s 1ms/step - loss: 0.0711 - accuracy: 0.9788 - val_loss: 0.0415 - val_accuracy: 0.9854\n",
      "Test loss: 0.041494555433106144\n",
      "Test accuracy: 0.9854000210762024\n"
     ]
    }
   ],
   "source": [
    "# kernel_number = 64\n",
    "if __name__ == '__main__':\n",
    "    main(kernel_num=64)"
   ]
  },
  {
   "cell_type": "code",
   "execution_count": 73,
   "metadata": {},
   "outputs": [],
   "source": [
    "test_accuracy2=[0.9689,0.9787,0.9833,0.9829,0.9854]"
   ]
  },
  {
   "cell_type": "code",
   "execution_count": 25,
   "metadata": {},
   "outputs": [
    {
     "name": "stdout",
     "output_type": "stream",
     "text": [
      "Building model...\n",
      "Compiling model...\n",
      "Fitting model...\n",
      "Train on 60000 samples, validate on 10000 samples\n",
      "Epoch 1/5\n",
      "60000/60000 [==============================] - 115s 2ms/step - loss: 0.3379 - accuracy: 0.8972 - val_loss: 0.0942 - val_accuracy: 0.9707\n",
      "Epoch 2/5\n",
      "60000/60000 [==============================] - 113s 2ms/step - loss: 0.1271 - accuracy: 0.9625 - val_loss: 0.0603 - val_accuracy: 0.9812\n",
      "Epoch 3/5\n",
      "60000/60000 [==============================] - 115s 2ms/step - loss: 0.0921 - accuracy: 0.9727 - val_loss: 0.0474 - val_accuracy: 0.9840\n",
      "Epoch 4/5\n",
      "60000/60000 [==============================] - 114s 2ms/step - loss: 0.0750 - accuracy: 0.9771 - val_loss: 0.0427 - val_accuracy: 0.9847\n",
      "Epoch 5/5\n",
      "60000/60000 [==============================] - 113s 2ms/step - loss: 0.0663 - accuracy: 0.9799 - val_loss: 0.0439 - val_accuracy: 0.9854\n",
      "Test loss: 0.0439450320716016\n",
      "Test accuracy: 0.9854000210762024\n"
     ]
    }
   ],
   "source": [
    "# kernel_number = 128\n",
    "if __name__ == '__main__':\n",
    "    main(kernel_num=128)"
   ]
  },
  {
   "cell_type": "code",
   "execution_count": 74,
   "metadata": {},
   "outputs": [],
   "source": [
    "test_accuracy3=[0.9707,0.9812,0.9840,0.9847,0.9854]"
   ]
  },
  {
   "cell_type": "code",
   "execution_count": 75,
   "metadata": {},
   "outputs": [
    {
     "data": {
      "image/png": "[encoded data removed]",
      "text/plain": [
       "<Figure size 432x288 with 1 Axes>"
      ]
     },
     "metadata": {
      "needs_background": "light"
     },
     "output_type": "display_data"
    }
   ],
   "source": [
    "plt.plot([1,2,3,4,5],test_accuracy1,color='b')\n",
    "plt.plot([1,2,3,4,5],test_accuracy2,color='r')\n",
    "plt.plot([1,2,3,4,5],test_accuracy3,color='g')\n",
    "plt.ylabel('Test Accuracy')\n",
    "plt.xlabel('Number of iterations')\n",
    "plt.legend(['kernels number : 32','kernels number : 64','kernels number : 128'])\n",
    "plt.show()"
   ]
  },
  {
   "cell_type": "markdown",
   "metadata": {},
   "source": [
    "# Test for different Learning rate values"
   ]
  },
  {
   "cell_type": "code",
   "execution_count": 30,
   "metadata": {},
   "outputs": [
    {
     "name": "stdout",
     "output_type": "stream",
     "text": [
      "Building model...\n",
      "Compiling model...\n",
      "Fitting model...\n",
      "Train on 60000 samples, validate on 10000 samples\n",
      "Epoch 1/5\n",
      "60000/60000 [==============================] - 34s 562us/step - loss: 0.7765 - accuracy: 0.7739 - val_loss: 0.3065 - val_accuracy: 0.9151\n",
      "Epoch 2/5\n",
      "60000/60000 [==============================] - 35s 587us/step - loss: 0.3861 - accuracy: 0.8863 - val_loss: 0.2358 - val_accuracy: 0.9333\n",
      "Epoch 3/5\n",
      "60000/60000 [==============================] - 35s 589us/step - loss: 0.3228 - accuracy: 0.9034 - val_loss: 0.1975 - val_accuracy: 0.9417\n",
      "Epoch 4/5\n",
      "60000/60000 [==============================] - 36s 595us/step - loss: 0.2888 - accuracy: 0.9157 - val_loss: 0.1725 - val_accuracy: 0.9492\n",
      "Epoch 5/5\n",
      "60000/60000 [==============================] - 36s 593us/step - loss: 0.2619 - accuracy: 0.9227 - val_loss: 0.1570 - val_accuracy: 0.9534\n",
      "Test loss: 0.15701893895417451\n",
      "Test accuracy: 0.9534000158309937\n"
     ]
    }
   ],
   "source": [
    "# learning rate = 0.1\n",
    "if __name__ == '__main__':\n",
    "    main(lr=0.1)"
   ]
  },
  {
   "cell_type": "code",
   "execution_count": 76,
   "metadata": {},
   "outputs": [],
   "source": [
    "test_accuracy1=[0.9151,0.9333,0.9417,0.9492,0.9534]"
   ]
  },
  {
   "cell_type": "code",
   "execution_count": 31,
   "metadata": {},
   "outputs": [
    {
     "name": "stdout",
     "output_type": "stream",
     "text": [
      "Building model...\n",
      "Compiling model...\n",
      "Fitting model...\n",
      "Train on 60000 samples, validate on 10000 samples\n",
      "Epoch 1/5\n",
      "60000/60000 [==============================] - 35s 584us/step - loss: 0.3504 - accuracy: 0.8943 - val_loss: 0.1032 - val_accuracy: 0.9686\n",
      "Epoch 2/5\n",
      "60000/60000 [==============================] - 35s 586us/step - loss: 0.1435 - accuracy: 0.9573 - val_loss: 0.0680 - val_accuracy: 0.9774\n",
      "Epoch 3/5\n",
      "60000/60000 [==============================] - 35s 588us/step - loss: 0.1105 - accuracy: 0.9666 - val_loss: 0.0565 - val_accuracy: 0.9826\n",
      "Epoch 4/5\n",
      "60000/60000 [==============================] - 35s 586us/step - loss: 0.0928 - accuracy: 0.9731 - val_loss: 0.0496 - val_accuracy: 0.9828\n",
      "Epoch 5/5\n",
      "60000/60000 [==============================] - 35s 592us/step - loss: 0.0813 - accuracy: 0.9753 - val_loss: 0.0466 - val_accuracy: 0.9841\n",
      "Test loss: 0.04664903507290874\n",
      "Test accuracy: 0.9840999841690063\n"
     ]
    }
   ],
   "source": [
    "# learning rate = 1\n",
    "if __name__ == '__main__':\n",
    "    main(lr=1)"
   ]
  },
  {
   "cell_type": "code",
   "execution_count": 77,
   "metadata": {},
   "outputs": [],
   "source": [
    "test_accuracy2=[0.9686,0.9774,0.9826,0.9828,0.9841]"
   ]
  },
  {
   "cell_type": "code",
   "execution_count": 32,
   "metadata": {},
   "outputs": [
    {
     "name": "stdout",
     "output_type": "stream",
     "text": [
      "Building model...\n",
      "Compiling model...\n",
      "Fitting model...\n",
      "Train on 60000 samples, validate on 10000 samples\n",
      "Epoch 1/5\n",
      "60000/60000 [==============================] - 36s 600us/step - loss: 0.2653 - accuracy: 0.9193 - val_loss: 0.0879 - val_accuracy: 0.9723\n",
      "Epoch 2/5\n",
      "60000/60000 [==============================] - 36s 601us/step - loss: 0.1211 - accuracy: 0.9639 - val_loss: 0.0614 - val_accuracy: 0.9819\n",
      "Epoch 3/5\n",
      "60000/60000 [==============================] - 35s 584us/step - loss: 0.0953 - accuracy: 0.9719 - val_loss: 0.0561 - val_accuracy: 0.9828\n",
      "Epoch 4/5\n",
      "60000/60000 [==============================] - 35s 583us/step - loss: 0.0800 - accuracy: 0.9762 - val_loss: 0.0507 - val_accuracy: 0.9839\n",
      "Epoch 5/5\n",
      "60000/60000 [==============================] - 35s 583us/step - loss: 0.0725 - accuracy: 0.9786 - val_loss: 0.0463 - val_accuracy: 0.9867\n",
      "Test loss: 0.04625659216317145\n",
      "Test accuracy: 0.9866999983787537\n"
     ]
    }
   ],
   "source": [
    "# learning rate = 10\n",
    "if __name__ == '__main__':\n",
    "    main(lr=10)"
   ]
  },
  {
   "cell_type": "code",
   "execution_count": 78,
   "metadata": {},
   "outputs": [],
   "source": [
    "test_accuracy3=[0.9723,0.9819,0.9828,0.9839,0.9867]"
   ]
  },
  {
   "cell_type": "code",
   "execution_count": 79,
   "metadata": {},
   "outputs": [
    {
     "data": {
      "image/png": "[encoded data removed]",
      "text/plain": [
       "<Figure size 432x288 with 1 Axes>"
      ]
     },
     "metadata": {
      "needs_background": "light"
     },
     "output_type": "display_data"
    }
   ],
   "source": [
    "plt.plot([1,2,3,4,5],test_accuracy1,color='b')\n",
    "plt.plot([1,2,3,4,5],test_accuracy2,color='r')\n",
    "plt.plot([1,2,3,4,5],test_accuracy3,color='g')\n",
    "plt.ylabel('Test Accuracy')\n",
    "plt.xlabel('Number of iterations')\n",
    "plt.legend(['learning rate : 0.1','learning rate : 1','learning rate : 10'])\n",
    "plt.show()"
   ]
  },
  {
   "cell_type": "markdown",
   "metadata": {},
   "source": [
    "# Test for different activation functions"
   ]
  },
  {
   "cell_type": "code",
   "execution_count": 33,
   "metadata": {},
   "outputs": [
    {
     "name": "stdout",
     "output_type": "stream",
     "text": [
      "Building model...\n",
      "Compiling model...\n",
      "Fitting model...\n",
      "Train on 60000 samples, validate on 10000 samples\n",
      "Epoch 1/5\n",
      "60000/60000 [==============================] - 36s 596us/step - loss: 2.0544 - accuracy: 0.2374 - val_loss: 0.9005 - val_accuracy: 0.6837\n",
      "Epoch 2/5\n",
      "60000/60000 [==============================] - 36s 593us/step - loss: 0.5708 - accuracy: 0.8275 - val_loss: 0.3743 - val_accuracy: 0.8788\n",
      "Epoch 3/5\n",
      "60000/60000 [==============================] - 38s 640us/step - loss: 0.3833 - accuracy: 0.8871 - val_loss: 0.2520 - val_accuracy: 0.9230\n",
      "Epoch 4/5\n",
      "60000/60000 [==============================] - 41s 684us/step - loss: 0.3215 - accuracy: 0.9039 - val_loss: 0.2108 - val_accuracy: 0.9363\n",
      "Epoch 5/5\n",
      "60000/60000 [==============================] - 38s 630us/step - loss: 0.2823 - accuracy: 0.9155 - val_loss: 0.1753 - val_accuracy: 0.9458\n",
      "Test loss: 0.1753128852546215\n",
      "Test accuracy: 0.9458000063896179\n"
     ]
    }
   ],
   "source": [
    "#activation function : sigmoid\n",
    "if __name__ == '__main__':\n",
    "    main(active_func='sigmoid')"
   ]
  },
  {
   "cell_type": "code",
   "execution_count": 80,
   "metadata": {},
   "outputs": [],
   "source": [
    "test_accuracy1=[0.6837,0.8788,0.9230,0.9363,0.9458]"
   ]
  },
  {
   "cell_type": "code",
   "execution_count": 34,
   "metadata": {},
   "outputs": [
    {
     "name": "stdout",
     "output_type": "stream",
     "text": [
      "Building model...\n",
      "Compiling model...\n",
      "Fitting model...\n",
      "Train on 60000 samples, validate on 10000 samples\n",
      "Epoch 1/5\n",
      "60000/60000 [==============================] - 37s 616us/step - loss: 0.3721 - accuracy: 0.8859 - val_loss: 0.1096 - val_accuracy: 0.9661\n",
      "Epoch 2/5\n",
      "60000/60000 [==============================] - 38s 626us/step - loss: 0.1549 - accuracy: 0.9542 - val_loss: 0.0714 - val_accuracy: 0.9785\n",
      "Epoch 3/5\n",
      "60000/60000 [==============================] - 36s 603us/step - loss: 0.1137 - accuracy: 0.9655 - val_loss: 0.0591 - val_accuracy: 0.9808\n",
      "Epoch 4/5\n",
      "60000/60000 [==============================] - 35s 588us/step - loss: 0.0977 - accuracy: 0.9703 - val_loss: 0.0515 - val_accuracy: 0.9832\n",
      "Epoch 5/5\n",
      "60000/60000 [==============================] - 36s 598us/step - loss: 0.0864 - accuracy: 0.9737 - val_loss: 0.0483 - val_accuracy: 0.9843\n",
      "Test loss: 0.048261129591963256\n",
      "Test accuracy: 0.9843000173568726\n"
     ]
    }
   ],
   "source": [
    "#activation function : relu\n",
    "if __name__ == '__main__':\n",
    "    main(active_func='relu')"
   ]
  },
  {
   "cell_type": "code",
   "execution_count": 81,
   "metadata": {},
   "outputs": [],
   "source": [
    "test_accuracy2=[0.9661,0.9785,0.9808,0.9832,0.9843]"
   ]
  },
  {
   "cell_type": "code",
   "execution_count": 35,
   "metadata": {},
   "outputs": [
    {
     "name": "stdout",
     "output_type": "stream",
     "text": [
      "Building model...\n",
      "Compiling model...\n",
      "Fitting model...\n",
      "Train on 60000 samples, validate on 10000 samples\n",
      "Epoch 1/5\n",
      "60000/60000 [==============================] - 36s 600us/step - loss: 0.3364 - accuracy: 0.8985 - val_loss: 0.1513 - val_accuracy: 0.9542\n",
      "Epoch 2/5\n",
      "60000/60000 [==============================] - 36s 601us/step - loss: 0.1632 - accuracy: 0.9513 - val_loss: 0.1028 - val_accuracy: 0.9686\n",
      "Epoch 3/5\n",
      "60000/60000 [==============================] - 37s 619us/step - loss: 0.1293 - accuracy: 0.9605 - val_loss: 0.0771 - val_accuracy: 0.9755\n",
      "Epoch 4/5\n",
      "60000/60000 [==============================] - 38s 626us/step - loss: 0.1094 - accuracy: 0.9668 - val_loss: 0.0809 - val_accuracy: 0.9749\n",
      "Epoch 5/5\n",
      "60000/60000 [==============================] - 37s 618us/step - loss: 0.0984 - accuracy: 0.9693 - val_loss: 0.0626 - val_accuracy: 0.9801\n",
      "Test loss: 0.06259014640524983\n",
      "Test accuracy: 0.9800999760627747\n"
     ]
    }
   ],
   "source": [
    "#activation function : tanh\n",
    "if __name__ == '__main__':\n",
    "    main(active_func='tanh')"
   ]
  },
  {
   "cell_type": "code",
   "execution_count": 82,
   "metadata": {},
   "outputs": [],
   "source": [
    "test_accuracy3=[0.9542,0.9686,0.9755,0.9749,0.9801]"
   ]
  },
  {
   "cell_type": "code",
   "execution_count": 83,
   "metadata": {},
   "outputs": [
    {
     "data": {
      "image/png": "[encoded data removed]",
      "text/plain": [
       "<Figure size 432x288 with 1 Axes>"
      ]
     },
     "metadata": {
      "needs_background": "light"
     },
     "output_type": "display_data"
    }
   ],
   "source": [
    "plt.plot([1,2,3,4,5],test_accuracy1,color='b')\n",
    "plt.plot([1,2,3,4,5],test_accuracy2,color='r')\n",
    "plt.plot([1,2,3,4,5],test_accuracy3,color='g')\n",
    "plt.ylabel('Test Accuracy')\n",
    "plt.xlabel('Number of iterations')\n",
    "plt.legend(['activation function : sigmoid','activation function : relu','activation function : tanh'])\n",
    "plt.show()"
   ]
  },
  {
   "cell_type": "markdown",
   "metadata": {},
   "source": [
    "# Test for different layers numbers"
   ]
  },
  {
   "cell_type": "code",
   "execution_count": 44,
   "metadata": {},
   "outputs": [
    {
     "name": "stdout",
     "output_type": "stream",
     "text": [
      "Building model...\n",
      "Compiling model...\n",
      "Fitting model...\n",
      "Train on 60000 samples, validate on 10000 samples\n",
      "Epoch 1/5\n",
      "60000/60000 [==============================] - 39s 653us/step - loss: 0.3479 - accuracy: 0.8943 - val_loss: 0.1055 - val_accuracy: 0.9687\n",
      "Epoch 2/5\n",
      "60000/60000 [==============================] - 37s 624us/step - loss: 0.1395 - accuracy: 0.9589 - val_loss: 0.0662 - val_accuracy: 0.9800\n",
      "Epoch 3/5\n",
      "60000/60000 [==============================] - 38s 626us/step - loss: 0.1046 - accuracy: 0.9690 - val_loss: 0.0574 - val_accuracy: 0.9813\n",
      "Epoch 4/5\n",
      "60000/60000 [==============================] - 39s 645us/step - loss: 0.0899 - accuracy: 0.9733 - val_loss: 0.0500 - val_accuracy: 0.9831\n",
      "Epoch 5/5\n",
      "60000/60000 [==============================] - 39s 654us/step - loss: 0.0786 - accuracy: 0.9770 - val_loss: 0.0473 - val_accuracy: 0.9831\n",
      "Test loss: 0.047344619320670606\n",
      "Test accuracy: 0.9830999970436096\n"
     ]
    }
   ],
   "source": [
    "# one convolutional layer\n",
    "if __name__ == '__main__':\n",
    "    main()"
   ]
  },
  {
   "cell_type": "code",
   "execution_count": 84,
   "metadata": {},
   "outputs": [],
   "source": [
    "test_accuracy1=[0.9687,0.9800,0.9813,0.9831,0.9831]"
   ]
  },
  {
   "cell_type": "code",
   "execution_count": 52,
   "metadata": {},
   "outputs": [
    {
     "name": "stdout",
     "output_type": "stream",
     "text": [
      "Building model...\n",
      "Compiling model...\n",
      "Fitting model...\n",
      "Train on 60000 samples, validate on 10000 samples\n",
      "Epoch 1/5\n",
      "60000/60000 [==============================] - 97s 2ms/step - loss: 0.2955 - accuracy: 0.9088 - val_loss: 0.0675 - val_accuracy: 0.9783\n",
      "Epoch 2/5\n",
      "60000/60000 [==============================] - 87s 1ms/step - loss: 0.0992 - accuracy: 0.9706 - val_loss: 0.0422 - val_accuracy: 0.9855\n",
      "Epoch 3/5\n",
      "60000/60000 [==============================] - 97s 2ms/step - loss: 0.0747 - accuracy: 0.9775 - val_loss: 0.0340 - val_accuracy: 0.9887\n",
      "Epoch 4/5\n",
      "60000/60000 [==============================] - 96s 2ms/step - loss: 0.0627 - accuracy: 0.9815 - val_loss: 0.0312 - val_accuracy: 0.9894\n",
      "Epoch 5/5\n",
      "60000/60000 [==============================] - 89s 1ms/step - loss: 0.0542 - accuracy: 0.9842 - val_loss: 0.0290 - val_accuracy: 0.9900\n",
      "Test loss: 0.028990731894140483\n",
      "Test accuracy: 0.9900000095367432\n"
     ]
    }
   ],
   "source": [
    "# two convolutional layer\n",
    "if __name__ == '__main__':\n",
    "    main()"
   ]
  },
  {
   "cell_type": "code",
   "execution_count": 85,
   "metadata": {},
   "outputs": [],
   "source": [
    "test_accuracy2=[0.9783,0.9855,0.9887,0.9894,0.9900]"
   ]
  },
  {
   "cell_type": "code",
   "execution_count": 55,
   "metadata": {},
   "outputs": [
    {
     "name": "stdout",
     "output_type": "stream",
     "text": [
      "Building model...\n",
      "Compiling model...\n",
      "Fitting model...\n",
      "Train on 60000 samples, validate on 10000 samples\n",
      "Epoch 1/5\n",
      "60000/60000 [==============================] - 128s 2ms/step - loss: 0.2758 - accuracy: 0.9158 - val_loss: 0.0588 - val_accuracy: 0.9821\n",
      "Epoch 2/5\n",
      "60000/60000 [==============================] - 124s 2ms/step - loss: 0.0916 - accuracy: 0.9722 - val_loss: 0.0436 - val_accuracy: 0.9859\n",
      "Epoch 3/5\n",
      "60000/60000 [==============================] - 133s 2ms/step - loss: 0.0678 - accuracy: 0.9797 - val_loss: 0.0355 - val_accuracy: 0.9873\n",
      "Epoch 4/5\n",
      "60000/60000 [==============================] - 139s 2ms/step - loss: 0.0578 - accuracy: 0.9833 - val_loss: 0.0291 - val_accuracy: 0.9896\n",
      "Epoch 5/5\n",
      "60000/60000 [==============================] - 128s 2ms/step - loss: 0.0508 - accuracy: 0.9847 - val_loss: 0.0290 - val_accuracy: 0.9905\n",
      "Test loss: 0.029020933232097014\n",
      "Test accuracy: 0.9904999732971191\n"
     ]
    }
   ],
   "source": [
    "# three convolutional layer\n",
    "if __name__ == '__main__':\n",
    "    main()"
   ]
  },
  {
   "cell_type": "code",
   "execution_count": 86,
   "metadata": {},
   "outputs": [],
   "source": [
    "test_accuracy3=[0.9821,0.9859,0.9873, 0.9896,0.9905]"
   ]
  },
  {
   "cell_type": "code",
   "execution_count": 87,
   "metadata": {},
   "outputs": [
    {
     "data": {
      "image/png": "[encoded data removed]",
      "text/plain": [
       "<Figure size 432x288 with 1 Axes>"
      ]
     },
     "metadata": {
      "needs_background": "light"
     },
     "output_type": "display_data"
    }
   ],
   "source": [
    "plt.plot([1,2,3,4,5],test_accuracy1,color='b')\n",
    "plt.plot([1,2,3,4,5],test_accuracy2,color='r')\n",
    "plt.plot([1,2,3,4,5],test_accuracy3,color='g')\n",
    "plt.ylabel('Test Accuracy')\n",
    "plt.xlabel('Number of iterations')\n",
    "plt.legend(['one convolutional layer','two convolutional layer','three convolutional layer'])\n",
    "plt.show()"
   ]
  },
  {
   "cell_type": "code",
   "execution_count": 93,
   "metadata": {},
   "outputs": [
    {
     "name": "stdout",
     "output_type": "stream",
     "text": [
      "Building model...\n",
      "Compiling model...\n",
      "Fitting model...\n",
      "Train on 60000 samples, validate on 10000 samples\n",
      "Epoch 1/3\n",
      "60000/60000 [==============================] - 111s 2ms/step - loss: 0.3087 - accuracy: 0.9074 - val_loss: 0.0640 - val_accuracy: 0.9798\n",
      "Epoch 2/3\n",
      "60000/60000 [==============================] - 108s 2ms/step - loss: 0.1283 - accuracy: 0.9637 - val_loss: 0.0525 - val_accuracy: 0.9830\n",
      "Epoch 3/3\n",
      "60000/60000 [==============================] - 112s 2ms/step - loss: 0.1058 - accuracy: 0.9699 - val_loss: 0.0484 - val_accuracy: 0.9851\n",
      "Test loss: 0.048352208137250274\n",
      "Test accuracy: 0.9850999712944031\n",
      "Saving model...\n",
      "Done.\n"
     ]
    }
   ],
   "source": [
    "#saving a model with best parameters gained - three layer convolution with parameters below\n",
    "if __name__ == '__main__':\n",
    "    model=main(kernel_size=(5,5),kernel_num=128,lr=10,active_func='relu')\n",
    "    save_model(model)\n",
    "# for saving time i saved the model with best parameters and one convolution layer "
   ]
  },
  {
   "cell_type": "markdown",
   "metadata": {},
   "source": [
    "# visualizing filters "
   ]
  },
  {
   "cell_type": "code",
   "execution_count": 99,
   "metadata": {},
   "outputs": [],
   "source": [
    "filters,biases=model.layers[0].get_weights()"
   ]
  },
  {
   "cell_type": "code",
   "execution_count": 100,
   "metadata": {},
   "outputs": [],
   "source": [
    "#normalize filters\n",
    "#filters are 5x5\n",
    "f_min, f_max = filters.min(), filters.max()\n",
    "filters = (filters - f_min) / (f_max - f_min)"
   ]
  },
  {
   "cell_type": "code",
   "execution_count": 101,
   "metadata": {
    "scrolled": false
   },
   "outputs": [
    {
     "data": {
      "image/png": "[encoded data removed]",
      "text/plain": [
       "<Figure size 432x288 with 15 Axes>"
      ]
     },
     "metadata": {},
     "output_type": "display_data"
    }
   ],
   "source": [
    "#visualize first 15 filters\n",
    "n_filters, ix = 15, 1\n",
    "for i in range(n_filters):\n",
    "    # get the filter\n",
    "    f = filters[:, :, :, i]\n",
    "    ax = plt.subplot(n_filters/3, 3, ix)\n",
    "    ax.set_xticks([])\n",
    "    ax.set_yticks([])\n",
    "    # plot filter channel in grayscale\n",
    "    plt.imshow(f[:, :,0],cmap='gray')\n",
    "    ix += 1\n",
    "# show the figure\n",
    "plt.show()"
   ]
  },
  {
   "cell_type": "code",
   "execution_count": null,
   "metadata": {},
   "outputs": [],
   "source": []
  },
  {
   "cell_type": "code",
   "execution_count": null,
   "metadata": {},
   "outputs": [],
   "source": []
  },
  {
   "cell_type": "code",
   "execution_count": null,
   "metadata": {},
   "outputs": [],
   "source": []
  }
 ],
 "metadata": {
  "kernelspec": {
   "display_name": "Python 3",
   "language": "python",
   "name": "python3"
  },
  "language_info": {
   "codemirror_mode": {
    "name": "ipython",
    "version": 3
   },
   "file_extension": ".py",
   "mimetype": "text/x-python",
   "name": "python",
   "nbconvert_exporter": "python",
   "pygments_lexer": "ipython3",
   "version": "3.7.4"
  }
 },
 "nbformat": 4,
 "nbformat_minor": 2
}
